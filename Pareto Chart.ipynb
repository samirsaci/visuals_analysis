{
 "cells": [
  {
   "cell_type": "code",
   "execution_count": 1,
   "metadata": {
    "collapsed": true
   },
   "outputs": [],
   "source": [
    "import pandas as pd\n",
    "import matplotlib.pyplot as plt"
   ]
  },
  {
   "cell_type": "code",
   "execution_count": 2,
   "metadata": {
    "collapsed": true
   },
   "outputs": [],
   "source": [
    "pd.set_option('display.max_colwidth', 0)\n",
    "pd.set_option('display.max_columns', None)\n",
    "pd.options.display.max_seq_items = 2000"
   ]
  },
  {
   "cell_type": "code",
   "execution_count": 3,
   "metadata": {},
   "outputs": [
    {
     "data": {
      "text/html": [
       "<style>\n",
       ".dataframe td {\n",
       "    white-space: nowrap;\n",
       "}\n",
       "</style>"
      ],
      "text/plain": [
       "<IPython.core.display.HTML object>"
      ]
     },
     "metadata": {},
     "output_type": "display_data"
    }
   ],
   "source": [
    "%%html\n",
    "<style>\n",
    ".dataframe td {\n",
    "    white-space: nowrap;\n",
    "}\n",
    "</style>"
   ]
  },
  {
   "cell_type": "markdown",
   "metadata": {},
   "source": [
    "### Import Data"
   ]
  },
  {
   "cell_type": "code",
   "execution_count": 21,
   "metadata": {},
   "outputs": [
    {
     "name": "stdout",
     "output_type": "stream",
     "text": [
      "144,339 order lines\n"
     ]
    },
    {
     "data": {
      "text/html": [
       "<div>\n",
       "<style scoped>\n",
       "    .dataframe tbody tr th:only-of-type {\n",
       "        vertical-align: middle;\n",
       "    }\n",
       "\n",
       "    .dataframe tbody tr th {\n",
       "        vertical-align: top;\n",
       "    }\n",
       "\n",
       "    .dataframe thead th {\n",
       "        text-align: right;\n",
       "    }\n",
       "</style>\n",
       "<table border=\"1\" class=\"dataframe\">\n",
       "  <thead>\n",
       "    <tr style=\"text-align: right;\">\n",
       "      <th></th>\n",
       "      <th>DATE FORMAT</th>\n",
       "      <th>ORDER_NUMBER</th>\n",
       "      <th>SKU</th>\n",
       "      <th>BOX</th>\n",
       "    </tr>\n",
       "  </thead>\n",
       "  <tbody>\n",
       "    <tr>\n",
       "      <th>0</th>\n",
       "      <td>2017-01-01</td>\n",
       "      <td>835220</td>\n",
       "      <td>290731</td>\n",
       "      <td>1.0</td>\n",
       "    </tr>\n",
       "    <tr>\n",
       "      <th>1</th>\n",
       "      <td>2017-01-01</td>\n",
       "      <td>835220</td>\n",
       "      <td>373272</td>\n",
       "      <td>1.0</td>\n",
       "    </tr>\n",
       "    <tr>\n",
       "      <th>2</th>\n",
       "      <td>2017-01-01</td>\n",
       "      <td>835214</td>\n",
       "      <td>362101</td>\n",
       "      <td>1.0</td>\n",
       "    </tr>\n",
       "    <tr>\n",
       "      <th>3</th>\n",
       "      <td>2017-01-01</td>\n",
       "      <td>835215</td>\n",
       "      <td>215515</td>\n",
       "      <td>1.0</td>\n",
       "    </tr>\n",
       "    <tr>\n",
       "      <th>4</th>\n",
       "      <td>2017-01-01</td>\n",
       "      <td>835215</td>\n",
       "      <td>287995</td>\n",
       "      <td>1.0</td>\n",
       "    </tr>\n",
       "  </tbody>\n",
       "</table>\n",
       "</div>"
      ],
      "text/plain": [
       "  DATE FORMAT  ORDER_NUMBER     SKU  BOX\n",
       "0  2017-01-01        835220  290731  1.0\n",
       "1  2017-01-01        835220  373272  1.0\n",
       "2  2017-01-01        835214  362101  1.0\n",
       "3  2017-01-01        835215  215515  1.0\n",
       "4  2017-01-01        835215  287995  1.0"
      ]
     },
     "execution_count": 21,
     "metadata": {},
     "output_type": "execute_result"
    }
   ],
   "source": [
    "# Import\n",
    "df = pd.read_excel('In/1-2017.xlsx')\n",
    "print(\"{:,} order lines\".format(len(df)))\n",
    "df.head()"
   ]
  },
  {
   "cell_type": "markdown",
   "metadata": {},
   "source": [
    "### Processing"
   ]
  },
  {
   "cell_type": "code",
   "execution_count": 3,
   "metadata": {},
   "outputs": [
    {
     "name": "stdout",
     "output_type": "stream",
     "text": [
      "Pareto Analysis for 4,864 unique SKU\n"
     ]
    },
    {
     "data": {
      "text/html": [
       "<div>\n",
       "<style scoped>\n",
       "    .dataframe tbody tr th:only-of-type {\n",
       "        vertical-align: middle;\n",
       "    }\n",
       "\n",
       "    .dataframe tbody tr th {\n",
       "        vertical-align: top;\n",
       "    }\n",
       "\n",
       "    .dataframe thead th {\n",
       "        text-align: right;\n",
       "    }\n",
       "</style>\n",
       "<table border=\"1\" class=\"dataframe\">\n",
       "  <thead>\n",
       "    <tr style=\"text-align: right;\">\n",
       "      <th></th>\n",
       "      <th>SKU</th>\n",
       "      <th>BOX</th>\n",
       "      <th>CumSum</th>\n",
       "      <th>%CumSum</th>\n",
       "      <th>%SKU</th>\n",
       "    </tr>\n",
       "  </thead>\n",
       "  <tbody>\n",
       "    <tr>\n",
       "      <th>0</th>\n",
       "      <td>359803</td>\n",
       "      <td>4810.0</td>\n",
       "      <td>4810.0</td>\n",
       "      <td>2.911658</td>\n",
       "      <td>0.020559</td>\n",
       "    </tr>\n",
       "    <tr>\n",
       "      <th>1</th>\n",
       "      <td>290478</td>\n",
       "      <td>4132.0</td>\n",
       "      <td>8942.0</td>\n",
       "      <td>5.412898</td>\n",
       "      <td>0.041118</td>\n",
       "    </tr>\n",
       "    <tr>\n",
       "      <th>2</th>\n",
       "      <td>366639</td>\n",
       "      <td>4104.0</td>\n",
       "      <td>13046.0</td>\n",
       "      <td>7.897190</td>\n",
       "      <td>0.061678</td>\n",
       "    </tr>\n",
       "    <tr>\n",
       "      <th>3</th>\n",
       "      <td>359958</td>\n",
       "      <td>4062.0</td>\n",
       "      <td>17108.0</td>\n",
       "      <td>10.356058</td>\n",
       "      <td>0.082237</td>\n",
       "    </tr>\n",
       "    <tr>\n",
       "      <th>4</th>\n",
       "      <td>253500</td>\n",
       "      <td>3879.0</td>\n",
       "      <td>20987.0</td>\n",
       "      <td>12.704149</td>\n",
       "      <td>0.102796</td>\n",
       "    </tr>\n",
       "  </tbody>\n",
       "</table>\n",
       "</div>"
      ],
      "text/plain": [
       "      SKU     BOX   CumSum    %CumSum      %SKU\n",
       "0  359803  4810.0   4810.0   2.911658  0.020559\n",
       "1  290478  4132.0   8942.0   5.412898  0.041118\n",
       "2  366639  4104.0  13046.0   7.897190  0.061678\n",
       "3  359958  4062.0  17108.0  10.356058  0.082237\n",
       "4  253500  3879.0  20987.0  12.704149  0.102796"
      ]
     },
     "execution_count": 3,
     "metadata": {},
     "output_type": "execute_result"
    }
   ],
   "source": [
    "# BOX/SKU\n",
    "df_par = pd.DataFrame(df.groupby(['SKU'])['BOX'].sum())\n",
    "df_par.columns = ['BOX']\n",
    "\n",
    "# Sort Values\n",
    "df_par.sort_values(['BOX'], ascending = False, inplace = True)\n",
    "df_par.reset_index(inplace = True)\n",
    "\n",
    "# Cumulative Sum \n",
    "df_par['CumSum'] = df_par['BOX'].cumsum()\n",
    "\n",
    "# % CumSum\n",
    "df_par['%CumSum'] = (100 * df_par['CumSum']/df_par['BOX'].sum())\n",
    "\n",
    "# % SKU\n",
    "df_par['%SKU'] = (100 * (df_par.index + 1).astype(float)/(df_par.index.max() + 1))\n",
    "\n",
    "# 80% Volume\n",
    "df_par80 = df_par[df_par['%CumSum'] > 80].copy()\n",
    "perc_sku80 = df_par[df_par['%CumSum'] > 80]['%SKU'].min()\n",
    "perc_sum80 = df_par[df_par['%CumSum'] > 80]['%CumSum'].min()\n",
    "\n",
    "# 20% SKU\n",
    "df_sku20 = df_par[df_par['%SKU'] > 20].copy()\n",
    "perc_sku20 = df_sku20['%SKU'].min()\n",
    "perc_sum20 = df_sku20['%CumSum'].min()\n",
    "\n",
    "# 5% SKU\n",
    "df_sku5 = df_par[df_par['%SKU'] > 5].copy()\n",
    "perc_sku5 = df_par[df_par['%SKU'] > 5]['%SKU'].min()\n",
    "perc_sum5 = df_par[df_par['%SKU'] > 5]['%CumSum'].min()\n",
    "\n",
    "print(\"Pareto Analysis for {:,} unique SKU\".format(len(df_par)))\n",
    "df_par.head()"
   ]
  },
  {
   "cell_type": "markdown",
   "metadata": {},
   "source": [
    "### Pareto Chart Plot"
   ]
  },
  {
   "cell_type": "code",
   "execution_count": 20,
   "metadata": {},
   "outputs": [
    {
     "data": {
      "image/png": "[encoded data removed]",
      "text/plain": [
       "<Figure size 1080x504 with 1 Axes>"
      ]
     },
     "metadata": {},
     "output_type": "display_data"
    }
   ],
   "source": [
    "ax = df_par.plot(x='%SKU', y='%CumSum', figsize = (15,7), color = 'tab:blue', legend = False, linewidth=3)\n",
    "plt.xlabel('(%) SKU',fontsize=15)\n",
    "plt.ylabel('(%) Boxes',fontsize=15)\n",
    "plt.title('Pareto Analysis by Boxes Qty', fontsize = 15)\n",
    "# 5% SKU\n",
    "ax.axhline(perc_sum5 , color=\"tab:red\", linestyle=\"--\", linewidth = 2.0)\n",
    "ax.axvline(perc_sku5, color=\"tab:red\", linestyle=\"--\", linewidth = 2.0)\n",
    "# 80% Volume\n",
    "ax.axhline(perc_sum80 , color=\"tab:green\", linestyle=\"--\", linewidth = 2.0)\n",
    "ax.axvline(perc_sku80, color=\"tab:green\", linestyle=\"--\", linewidth = 2.0)\n",
    "# 20% SKU\n",
    "ax.axhline(perc_sum20 , color=\"tab:orange\", linestyle=\"--\", linewidth = 2.0)\n",
    "ax.axvline(perc_sku20, color=\"tab:orange\", linestyle=\"--\", linewidth = 2.0)\n",
    "plt.show()"
   ]
  },
  {
   "cell_type": "code",
   "execution_count": null,
   "metadata": {
    "collapsed": true
   },
   "outputs": [],
   "source": []
  }
 ],
 "metadata": {
  "kernelspec": {
   "display_name": "Python 3",
   "language": "python",
   "name": "python3"
  },
  "language_info": {
   "codemirror_mode": {
    "name": "ipython",
    "version": 3
   },
   "file_extension": ".py",
   "mimetype": "text/x-python",
   "name": "python",
   "nbconvert_exporter": "python",
   "pygments_lexer": "ipython3",
   "version": "3.6.1"
  }
 },
 "nbformat": 4,
 "nbformat_minor": 2
}
