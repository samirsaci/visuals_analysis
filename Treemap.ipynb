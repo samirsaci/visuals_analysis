{
 "cells": [
  {
   "cell_type": "code",
   "execution_count": 1,
   "metadata": {
    "collapsed": true
   },
   "outputs": [],
   "source": [
    "import numpy as np\n",
    "import pandas as pd\n",
    "import squarify\n",
    "import matplotlib\n",
    "import matplotlib.pyplot as plt"
   ]
  },
  {
   "cell_type": "code",
   "execution_count": 166,
   "metadata": {
    "collapsed": true
   },
   "outputs": [],
   "source": [
    "pd.set_option('display.max_colwidth', 0)\n",
    "pd.set_option('display.max_columns', None)\n",
    "pd.options.display.max_seq_items = 2000"
   ]
  },
  {
   "cell_type": "code",
   "execution_count": 167,
   "metadata": {},
   "outputs": [
    {
     "data": {
      "text/html": [
       "<style>\n",
       ".dataframe td {\n",
       "    white-space: nowrap;\n",
       "}\n",
       "</style>"
      ],
      "text/plain": [
       "<IPython.core.display.HTML object>"
      ]
     },
     "metadata": {},
     "output_type": "display_data"
    }
   ],
   "source": [
    "%%html\n",
    "<style>\n",
    ".dataframe td {\n",
    "    white-space: nowrap;\n",
    "}\n",
    "</style>"
   ]
  },
  {
   "cell_type": "markdown",
   "metadata": {},
   "source": [
    "## Import Data\n",
    "### Replenishments number by locations"
   ]
  },
  {
   "cell_type": "code",
   "execution_count": 4,
   "metadata": {},
   "outputs": [
    {
     "name": "stdout",
     "output_type": "stream",
     "text": [
      "8,099 records\n"
     ]
    },
    {
     "data": {
      "text/html": [
       "<div>\n",
       "<style scoped>\n",
       "    .dataframe tbody tr th:only-of-type {\n",
       "        vertical-align: middle;\n",
       "    }\n",
       "\n",
       "    .dataframe tbody tr th {\n",
       "        vertical-align: top;\n",
       "    }\n",
       "\n",
       "    .dataframe thead th {\n",
       "        text-align: right;\n",
       "    }\n",
       "</style>\n",
       "<table border=\"1\" class=\"dataframe\">\n",
       "  <thead>\n",
       "    <tr style=\"text-align: right;\">\n",
       "      <th></th>\n",
       "      <th>DAY</th>\n",
       "      <th>SKU</th>\n",
       "      <th>Location</th>\n",
       "      <th>Alley</th>\n",
       "      <th>AlleyCell</th>\n",
       "      <th>Max</th>\n",
       "      <th>Min</th>\n",
       "      <th>WEEK-1</th>\n",
       "      <th>WEEK-2</th>\n",
       "      <th>WEEK-3</th>\n",
       "      <th>WEEK-4</th>\n",
       "      <th>WEEK-5</th>\n",
       "      <th>Capacity</th>\n",
       "    </tr>\n",
       "  </thead>\n",
       "  <tbody>\n",
       "    <tr>\n",
       "      <th>0</th>\n",
       "      <td>FRI</td>\n",
       "      <td>2354</td>\n",
       "      <td>A0617402</td>\n",
       "      <td>A06</td>\n",
       "      <td>A0617</td>\n",
       "      <td>80.0</td>\n",
       "      <td>60.0</td>\n",
       "      <td>0.0</td>\n",
       "      <td>1.0</td>\n",
       "      <td>1.0</td>\n",
       "      <td>0.0</td>\n",
       "      <td>0.0</td>\n",
       "      <td>20</td>\n",
       "    </tr>\n",
       "    <tr>\n",
       "      <th>1</th>\n",
       "      <td>FRI</td>\n",
       "      <td>5028</td>\n",
       "      <td>A0703503</td>\n",
       "      <td>A07</td>\n",
       "      <td>A0703</td>\n",
       "      <td>0.0</td>\n",
       "      <td>0.0</td>\n",
       "      <td>0.0</td>\n",
       "      <td>0.0</td>\n",
       "      <td>1.0</td>\n",
       "      <td>0.0</td>\n",
       "      <td>0.0</td>\n",
       "      <td>1</td>\n",
       "    </tr>\n",
       "    <tr>\n",
       "      <th>2</th>\n",
       "      <td>FRI</td>\n",
       "      <td>8972</td>\n",
       "      <td>A0527401</td>\n",
       "      <td>A05</td>\n",
       "      <td>A0527</td>\n",
       "      <td>120.0</td>\n",
       "      <td>90.0</td>\n",
       "      <td>1.0</td>\n",
       "      <td>2.0</td>\n",
       "      <td>0.0</td>\n",
       "      <td>1.0</td>\n",
       "      <td>0.0</td>\n",
       "      <td>30</td>\n",
       "    </tr>\n",
       "    <tr>\n",
       "      <th>3</th>\n",
       "      <td>FRI</td>\n",
       "      <td>10116</td>\n",
       "      <td>A0742501</td>\n",
       "      <td>A07</td>\n",
       "      <td>A0742</td>\n",
       "      <td>144.0</td>\n",
       "      <td>108.0</td>\n",
       "      <td>0.0</td>\n",
       "      <td>1.0</td>\n",
       "      <td>0.0</td>\n",
       "      <td>0.0</td>\n",
       "      <td>0.0</td>\n",
       "      <td>36</td>\n",
       "    </tr>\n",
       "    <tr>\n",
       "      <th>4</th>\n",
       "      <td>FRI</td>\n",
       "      <td>11259</td>\n",
       "      <td>A0608303</td>\n",
       "      <td>A06</td>\n",
       "      <td>A0608</td>\n",
       "      <td>200.0</td>\n",
       "      <td>150.0</td>\n",
       "      <td>1.0</td>\n",
       "      <td>3.0</td>\n",
       "      <td>2.0</td>\n",
       "      <td>0.0</td>\n",
       "      <td>0.0</td>\n",
       "      <td>50</td>\n",
       "    </tr>\n",
       "  </tbody>\n",
       "</table>\n",
       "</div>"
      ],
      "text/plain": [
       "   DAY    SKU  Location Alley AlleyCell    Max    Min  WEEK-1  WEEK-2  WEEK-3  \\\n",
       "0  FRI   2354  A0617402   A06     A0617   80.0   60.0     0.0     1.0     1.0   \n",
       "1  FRI   5028  A0703503   A07     A0703    0.0    0.0     0.0     0.0     1.0   \n",
       "2  FRI   8972  A0527401   A05     A0527  120.0   90.0     1.0     2.0     0.0   \n",
       "3  FRI  10116  A0742501   A07     A0742  144.0  108.0     0.0     1.0     0.0   \n",
       "4  FRI  11259  A0608303   A06     A0608  200.0  150.0     1.0     3.0     2.0   \n",
       "\n",
       "   WEEK-4  WEEK-5  Capacity  \n",
       "0     0.0     0.0        20  \n",
       "1     0.0     0.0         1  \n",
       "2     1.0     0.0        30  \n",
       "3     0.0     0.0        36  \n",
       "4     0.0     0.0        50  "
      ]
     },
     "execution_count": 4,
     "metadata": {},
     "output_type": "execute_result"
    }
   ],
   "source": [
    "df_repl = pd.read_csv('In/Replenishment.csv', sep =',', index_col = 0)\n",
    "print('{:,} records'.format(len(df_repl)))\n",
    "df_repl.head()"
   ]
  },
  {
   "cell_type": "markdown",
   "metadata": {},
   "source": [
    "## Plot Split of Replenishment\n",
    "### Process the Dataframe"
   ]
  },
  {
   "cell_type": "code",
   "execution_count": 17,
   "metadata": {},
   "outputs": [
    {
     "name": "stdout",
     "output_type": "stream",
     "text": [
      "4,325 records\n"
     ]
    },
    {
     "data": {
      "text/html": [
       "<div>\n",
       "<style scoped>\n",
       "    .dataframe tbody tr th:only-of-type {\n",
       "        vertical-align: middle;\n",
       "    }\n",
       "\n",
       "    .dataframe tbody tr th {\n",
       "        vertical-align: top;\n",
       "    }\n",
       "\n",
       "    .dataframe thead th {\n",
       "        text-align: right;\n",
       "    }\n",
       "</style>\n",
       "<table border=\"1\" class=\"dataframe\">\n",
       "  <thead>\n",
       "    <tr style=\"text-align: right;\">\n",
       "      <th></th>\n",
       "      <th>Alley</th>\n",
       "      <th>WEEK-2</th>\n",
       "    </tr>\n",
       "  </thead>\n",
       "  <tbody>\n",
       "    <tr>\n",
       "      <th>0</th>\n",
       "      <td>A06</td>\n",
       "      <td>1.0</td>\n",
       "    </tr>\n",
       "    <tr>\n",
       "      <th>2</th>\n",
       "      <td>A05</td>\n",
       "      <td>2.0</td>\n",
       "    </tr>\n",
       "    <tr>\n",
       "      <th>3</th>\n",
       "      <td>A07</td>\n",
       "      <td>1.0</td>\n",
       "    </tr>\n",
       "    <tr>\n",
       "      <th>4</th>\n",
       "      <td>A06</td>\n",
       "      <td>3.0</td>\n",
       "    </tr>\n",
       "    <tr>\n",
       "      <th>5</th>\n",
       "      <td>A05</td>\n",
       "      <td>1.0</td>\n",
       "    </tr>\n",
       "  </tbody>\n",
       "</table>\n",
       "</div>"
      ],
      "text/plain": [
       "  Alley  WEEK-2\n",
       "0   A06     1.0\n",
       "2   A05     2.0\n",
       "3   A07     1.0\n",
       "4   A06     3.0\n",
       "5   A05     1.0"
      ]
     },
     "execution_count": 17,
     "metadata": {},
     "output_type": "execute_result"
    }
   ],
   "source": [
    "# Filter by Week Number\n",
    "wk = 'WEEK-2'\n",
    "df_plot = df_repl[df_repl[wk]>0][['Alley', wk]].copy()\n",
    "print('{:,} records'.format(len(df_plot)))\n",
    "df_plot.head()"
   ]
  },
  {
   "cell_type": "code",
   "execution_count": 18,
   "metadata": {},
   "outputs": [
    {
     "name": "stdout",
     "output_type": "stream",
     "text": [
      "['A06', 'A05', 'A07', 'A04', 'A02', 'R04', 'A08', 'A03', 'A01', 'R05', 'A09', 'A10', 'H02', 'B03', 'A11', 'R06']\n"
     ]
    }
   ],
   "source": [
    "# Unique Alleys\n",
    "print(list(df_plot.Alley.unique()))\n",
    "dict_color = dict(zip(['A05', 'A06', 'A04', 'A07', 'A02', 'R04', 'A01', 'A08', \n",
    "                       'R05', 'A03', 'A09', 'A10', 'H02', 'B03', 'A11', 'R06']\n",
    "                      , ['blue', 'red', 'yellow', 'orange', 'brown', 'cyan', 'tab:blue', 'tab:red', \n",
    " 'lightblue', 'tab:orange', 'grey', 'tab:green', 'purple', 'darkblue', 'white', 'magenta']))"
   ]
  },
  {
   "cell_type": "code",
   "execution_count": 19,
   "metadata": {},
   "outputs": [
    {
     "data": {
      "text/html": [
       "<div>\n",
       "<style scoped>\n",
       "    .dataframe tbody tr th:only-of-type {\n",
       "        vertical-align: middle;\n",
       "    }\n",
       "\n",
       "    .dataframe tbody tr th {\n",
       "        vertical-align: top;\n",
       "    }\n",
       "\n",
       "    .dataframe thead th {\n",
       "        text-align: right;\n",
       "    }\n",
       "</style>\n",
       "<table border=\"1\" class=\"dataframe\">\n",
       "  <thead>\n",
       "    <tr style=\"text-align: right;\">\n",
       "      <th></th>\n",
       "      <th>Alley</th>\n",
       "      <th>WEEK-2</th>\n",
       "      <th>%</th>\n",
       "      <th>LABEL</th>\n",
       "    </tr>\n",
       "  </thead>\n",
       "  <tbody>\n",
       "    <tr>\n",
       "      <th>0</th>\n",
       "      <td>A01</td>\n",
       "      <td>127.0</td>\n",
       "      <td>0.57</td>\n",
       "      <td>A01\\n0.57%</td>\n",
       "    </tr>\n",
       "    <tr>\n",
       "      <th>1</th>\n",
       "      <td>A02</td>\n",
       "      <td>1238.0</td>\n",
       "      <td>5.52</td>\n",
       "      <td>A02\\n5.52%</td>\n",
       "    </tr>\n",
       "    <tr>\n",
       "      <th>2</th>\n",
       "      <td>A03</td>\n",
       "      <td>1077.0</td>\n",
       "      <td>4.80</td>\n",
       "      <td>A03\\n4.8%</td>\n",
       "    </tr>\n",
       "    <tr>\n",
       "      <th>3</th>\n",
       "      <td>A04</td>\n",
       "      <td>3020.0</td>\n",
       "      <td>13.46</td>\n",
       "      <td>A04\\n13.46%</td>\n",
       "    </tr>\n",
       "    <tr>\n",
       "      <th>4</th>\n",
       "      <td>A05</td>\n",
       "      <td>899.0</td>\n",
       "      <td>4.01</td>\n",
       "      <td>A05\\n4.01%</td>\n",
       "    </tr>\n",
       "  </tbody>\n",
       "</table>\n",
       "</div>"
      ],
      "text/plain": [
       "  Alley  WEEK-2      %        LABEL\n",
       "0   A01   127.0   0.57   A01\\n0.57%\n",
       "1   A02  1238.0   5.52   A02\\n5.52%\n",
       "2   A03  1077.0   4.80    A03\\n4.8%\n",
       "3   A04  3020.0  13.46  A04\\n13.46%\n",
       "4   A05   899.0   4.01   A05\\n4.01%"
      ]
     },
     "execution_count": 19,
     "metadata": {},
     "output_type": "execute_result"
    }
   ],
   "source": [
    "# Processing\n",
    "df_plot = pd.DataFrame(df_plot.groupby(['Alley'])[wk].sum())\n",
    "df_plot['%'] = (100*df_plot[wk]/df_plot[wk].sum()).round(2)\n",
    "df_plot.reset_index(inplace = True)\n",
    "df_plot['LABEL'] = df_plot[['Alley','%']].apply(lambda t: t['Alley'] +'\\n' + str(t['%']) + '%', axis = 1)\n",
    "df_plot.head()"
   ]
  },
  {
   "cell_type": "code",
   "execution_count": 22,
   "metadata": {},
   "outputs": [
    {
     "data": {
      "image/png": "[encoded data removed]",
      "text/plain": [
       "<Figure size 720x576 with 1 Axes>"
      ]
     },
     "metadata": {},
     "output_type": "display_data"
    }
   ],
   "source": [
    "# Plot\n",
    "plt.figure(figsize=(10, 8))\n",
    "tree_map = squarify.plot(sizes = df_plot[wk], color = df_plot['Alley'].map(dict_color)\n",
    "            , label = df_plot['LABEL']\n",
    "            , edgecolor=\"#222222\", text_kwargs={'fontsize':10})\n",
    "plt.axis('on')\n",
    "plt.title('Number of Replenishments per Picking Cell' +'\\n', fontsize=12)\n",
    "tree_map.axes.xaxis.set_visible(False)\n",
    "tree_map.axes.yaxis.set_visible(False)\n",
    "plt.show()"
   ]
  }
 ],
 "metadata": {
  "kernelspec": {
   "display_name": "Python 3",
   "language": "python",
   "name": "python3"
  },
  "language_info": {
   "codemirror_mode": {
    "name": "ipython",
    "version": 3
   },
   "file_extension": ".py",
   "mimetype": "text/x-python",
   "name": "python",
   "nbconvert_exporter": "python",
   "pygments_lexer": "ipython3",
   "version": "3.6.1"
  }
 },
 "nbformat": 4,
 "nbformat_minor": 2
}
